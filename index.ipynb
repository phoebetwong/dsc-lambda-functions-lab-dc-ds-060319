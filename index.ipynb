{
 "cells": [
  {
   "cell_type": "markdown",
   "metadata": {},
   "source": [
    "# Lambda Functions - Lab"
   ]
  },
  {
   "cell_type": "markdown",
   "metadata": {},
   "source": [
    "## Introduction\n",
    "\n",
    "In this lab, you'll get some hands on practice creating and using lambda functions."
   ]
  },
  {
   "cell_type": "markdown",
   "metadata": {},
   "source": [
    "## Objectives\n",
    "You will be able to:\n",
    "* Understand what lambda functions are and why they are useful\n",
    "* Use lambda functions to transform data within lists and DataFrames"
   ]
  },
  {
   "cell_type": "markdown",
   "metadata": {},
   "source": [
    "## Lambda Functions"
   ]
  },
  {
   "cell_type": "code",
   "execution_count": 1,
   "metadata": {},
   "outputs": [
    {
     "data": {
      "text/html": [
       "<div>\n",
       "<style scoped>\n",
       "    .dataframe tbody tr th:only-of-type {\n",
       "        vertical-align: middle;\n",
       "    }\n",
       "\n",
       "    .dataframe tbody tr th {\n",
       "        vertical-align: top;\n",
       "    }\n",
       "\n",
       "    .dataframe thead th {\n",
       "        text-align: right;\n",
       "    }\n",
       "</style>\n",
       "<table border=\"1\" class=\"dataframe\">\n",
       "  <thead>\n",
       "    <tr style=\"text-align: right;\">\n",
       "      <th></th>\n",
       "      <th>Unnamed: 0</th>\n",
       "      <th>business_id</th>\n",
       "      <th>cool</th>\n",
       "      <th>date</th>\n",
       "      <th>funny</th>\n",
       "      <th>review_id</th>\n",
       "      <th>stars</th>\n",
       "      <th>text</th>\n",
       "      <th>useful</th>\n",
       "      <th>user_id</th>\n",
       "    </tr>\n",
       "  </thead>\n",
       "  <tbody>\n",
       "    <tr>\n",
       "      <th>0</th>\n",
       "      <td>1</td>\n",
       "      <td>pomGBqfbxcqPv14c3XH-ZQ</td>\n",
       "      <td>0</td>\n",
       "      <td>2012-11-13</td>\n",
       "      <td>0</td>\n",
       "      <td>dDl8zu1vWPdKGihJrwQbpw</td>\n",
       "      <td>5</td>\n",
       "      <td>I love this place! My fiance And I go here atl...</td>\n",
       "      <td>0</td>\n",
       "      <td>msQe1u7Z_XuqjGoqhB0J5g</td>\n",
       "    </tr>\n",
       "    <tr>\n",
       "      <th>1</th>\n",
       "      <td>2</td>\n",
       "      <td>jtQARsP6P-LbkyjbO1qNGg</td>\n",
       "      <td>1</td>\n",
       "      <td>2014-10-23</td>\n",
       "      <td>1</td>\n",
       "      <td>LZp4UX5zK3e-c5ZGSeo3kA</td>\n",
       "      <td>1</td>\n",
       "      <td>Terrible. Dry corn bread. Rib tips were all fa...</td>\n",
       "      <td>3</td>\n",
       "      <td>msQe1u7Z_XuqjGoqhB0J5g</td>\n",
       "    </tr>\n",
       "  </tbody>\n",
       "</table>\n",
       "</div>"
      ],
      "text/plain": [
       "   Unnamed: 0             business_id  cool        date  funny  \\\n",
       "0           1  pomGBqfbxcqPv14c3XH-ZQ     0  2012-11-13      0   \n",
       "1           2  jtQARsP6P-LbkyjbO1qNGg     1  2014-10-23      1   \n",
       "\n",
       "                review_id  stars  \\\n",
       "0  dDl8zu1vWPdKGihJrwQbpw      5   \n",
       "1  LZp4UX5zK3e-c5ZGSeo3kA      1   \n",
       "\n",
       "                                                text  useful  \\\n",
       "0  I love this place! My fiance And I go here atl...       0   \n",
       "1  Terrible. Dry corn bread. Rib tips were all fa...       3   \n",
       "\n",
       "                  user_id  \n",
       "0  msQe1u7Z_XuqjGoqhB0J5g  \n",
       "1  msQe1u7Z_XuqjGoqhB0J5g  "
      ]
     },
     "execution_count": 1,
     "metadata": {},
     "output_type": "execute_result"
    }
   ],
   "source": [
    "import pandas as pd\n",
    "df = pd.read_csv('Yelp_Reviews.csv')\n",
    "df.head(2)"
   ]
  },
  {
   "cell_type": "markdown",
   "metadata": {},
   "source": [
    "## Simple Arithmetic\n",
    "\n",
    "Use a lambda function to create a new column called 'stars_squared' by squarring the stars column."
   ]
  },
  {
   "cell_type": "code",
   "execution_count": 3,
   "metadata": {},
   "outputs": [],
   "source": [
    "df.stars_squared = (df.stars)**2"
   ]
  },
  {
   "cell_type": "code",
   "execution_count": 4,
   "metadata": {},
   "outputs": [
    {
     "data": {
      "text/plain": [
       "0    25\n",
       "1     1\n",
       "2    25\n",
       "3     1\n",
       "4    25\n",
       "Name: stars, dtype: int64"
      ]
     },
     "execution_count": 4,
     "metadata": {},
     "output_type": "execute_result"
    }
   ],
   "source": [
    "df.stars_squared.head()"
   ]
  },
  {
   "cell_type": "markdown",
   "metadata": {},
   "source": [
    "## Dates\n",
    "Select the month from the date string using a lambda function."
   ]
  },
  {
   "cell_type": "code",
   "execution_count": 5,
   "metadata": {},
   "outputs": [
    {
     "data": {
      "text/plain": [
       "0    11\n",
       "1    10\n",
       "2    09\n",
       "3    02\n",
       "4    06\n",
       "Name: date, dtype: object"
      ]
     },
     "execution_count": 5,
     "metadata": {},
     "output_type": "execute_result"
    }
   ],
   "source": [
    "df.date.map(lambda x: x[5:7]).head()"
   ]
  },
  {
   "cell_type": "markdown",
   "metadata": {},
   "source": [
    "## What is the average number of words for a yelp review?\n",
    "Do this with a single line of code!"
   ]
  },
  {
   "cell_type": "code",
   "execution_count": 8,
   "metadata": {},
   "outputs": [
    {
     "data": {
      "text/plain": [
       "77.06551724137931"
      ]
     },
     "execution_count": 8,
     "metadata": {},
     "output_type": "execute_result"
    }
   ],
   "source": [
    "df.text.map(lambda x: len(x.split())).mean()"
   ]
  },
  {
   "cell_type": "markdown",
   "metadata": {},
   "source": [
    "## Create a new column for the number of words in the review."
   ]
  },
  {
   "cell_type": "code",
   "execution_count": 21,
   "metadata": {},
   "outputs": [],
   "source": [
    "df['ntext'] = df.text.map(lambda x: len(x.split()))"
   ]
  },
  {
   "cell_type": "code",
   "execution_count": 22,
   "metadata": {},
   "outputs": [
    {
     "data": {
      "text/plain": [
       "0    58\n",
       "1    30\n",
       "2    30\n",
       "3    82\n",
       "4    32\n",
       "Name: text, dtype: int64"
      ]
     },
     "execution_count": 22,
     "metadata": {},
     "output_type": "execute_result"
    }
   ],
   "source": [
    "df.ntext.head()"
   ]
  },
  {
   "cell_type": "markdown",
   "metadata": {},
   "source": [
    "## Rewrite the following as a lambda function. Create a new column 'Review_Length'"
   ]
  },
  {
   "cell_type": "code",
   "execution_count": 5,
   "metadata": {
    "collapsed": true
   },
   "outputs": [],
   "source": [
    "def rewrite_as_lambda(value):\n",
    "    if len(value) < 50:\n",
    "        return 'Short'\n",
    "    elif len(value) < 80:\n",
    "        return 'Medium'\n",
    "    else:\n",
    "        return 'Long'\n",
    "#Hint: nest your if, else conditionals"
   ]
  },
  {
   "cell_type": "code",
   "execution_count": 23,
   "metadata": {},
   "outputs": [],
   "source": [
    "df['Review_Length']='Long'\n",
    "df['Review_Length']= df.ntext.map(lambda x: 'Short'if x<50 else ('Medium' if x<80 else 'Long'))"
   ]
  },
  {
   "cell_type": "code",
   "execution_count": 31,
   "metadata": {},
   "outputs": [
    {
     "data": {
      "text/html": [
       "<div>\n",
       "<style scoped>\n",
       "    .dataframe tbody tr th:only-of-type {\n",
       "        vertical-align: middle;\n",
       "    }\n",
       "\n",
       "    .dataframe tbody tr th {\n",
       "        vertical-align: top;\n",
       "    }\n",
       "\n",
       "    .dataframe thead th {\n",
       "        text-align: right;\n",
       "    }\n",
       "</style>\n",
       "<table border=\"1\" class=\"dataframe\">\n",
       "  <thead>\n",
       "    <tr style=\"text-align: right;\">\n",
       "      <th></th>\n",
       "      <th>Unnamed: 0</th>\n",
       "      <th>business_id</th>\n",
       "      <th>cool</th>\n",
       "      <th>date</th>\n",
       "      <th>funny</th>\n",
       "      <th>review_id</th>\n",
       "      <th>stars</th>\n",
       "      <th>text</th>\n",
       "      <th>useful</th>\n",
       "      <th>user_id</th>\n",
       "      <th>Review_Length</th>\n",
       "      <th>ntext</th>\n",
       "    </tr>\n",
       "  </thead>\n",
       "  <tbody>\n",
       "    <tr>\n",
       "      <th>0</th>\n",
       "      <td>1</td>\n",
       "      <td>pomGBqfbxcqPv14c3XH-ZQ</td>\n",
       "      <td>0</td>\n",
       "      <td>2012-11-13</td>\n",
       "      <td>0</td>\n",
       "      <td>dDl8zu1vWPdKGihJrwQbpw</td>\n",
       "      <td>5</td>\n",
       "      <td>I love this place! My fiance And I go here atl...</td>\n",
       "      <td>0</td>\n",
       "      <td>msQe1u7Z_XuqjGoqhB0J5g</td>\n",
       "      <td>Medium</td>\n",
       "      <td>58</td>\n",
       "    </tr>\n",
       "    <tr>\n",
       "      <th>1</th>\n",
       "      <td>2</td>\n",
       "      <td>jtQARsP6P-LbkyjbO1qNGg</td>\n",
       "      <td>1</td>\n",
       "      <td>2014-10-23</td>\n",
       "      <td>1</td>\n",
       "      <td>LZp4UX5zK3e-c5ZGSeo3kA</td>\n",
       "      <td>1</td>\n",
       "      <td>Terrible. Dry corn bread. Rib tips were all fa...</td>\n",
       "      <td>3</td>\n",
       "      <td>msQe1u7Z_XuqjGoqhB0J5g</td>\n",
       "      <td>Short</td>\n",
       "      <td>30</td>\n",
       "    </tr>\n",
       "    <tr>\n",
       "      <th>2</th>\n",
       "      <td>4</td>\n",
       "      <td>Ums3gaP2qM3W1XcA5r6SsQ</td>\n",
       "      <td>0</td>\n",
       "      <td>2014-09-05</td>\n",
       "      <td>0</td>\n",
       "      <td>jsDu6QEJHbwP2Blom1PLCA</td>\n",
       "      <td>5</td>\n",
       "      <td>Delicious healthy food. The steak is amazing. ...</td>\n",
       "      <td>0</td>\n",
       "      <td>msQe1u7Z_XuqjGoqhB0J5g</td>\n",
       "      <td>Short</td>\n",
       "      <td>30</td>\n",
       "    </tr>\n",
       "    <tr>\n",
       "      <th>3</th>\n",
       "      <td>5</td>\n",
       "      <td>vgfcTvK81oD4r50NMjU2Ag</td>\n",
       "      <td>0</td>\n",
       "      <td>2011-02-25</td>\n",
       "      <td>0</td>\n",
       "      <td>pfavA0hr3nyqO61oupj-lA</td>\n",
       "      <td>1</td>\n",
       "      <td>This place sucks. The customer service is horr...</td>\n",
       "      <td>2</td>\n",
       "      <td>msQe1u7Z_XuqjGoqhB0J5g</td>\n",
       "      <td>Long</td>\n",
       "      <td>82</td>\n",
       "    </tr>\n",
       "    <tr>\n",
       "      <th>4</th>\n",
       "      <td>10</td>\n",
       "      <td>yFumR3CWzpfvTH2FCthvVw</td>\n",
       "      <td>0</td>\n",
       "      <td>2016-06-15</td>\n",
       "      <td>0</td>\n",
       "      <td>STiFMww2z31siPY7BWNC2g</td>\n",
       "      <td>5</td>\n",
       "      <td>I have been an Emerald Club member for a numbe...</td>\n",
       "      <td>0</td>\n",
       "      <td>TlvV-xJhmh7LCwJYXkV-cg</td>\n",
       "      <td>Short</td>\n",
       "      <td>32</td>\n",
       "    </tr>\n",
       "  </tbody>\n",
       "</table>\n",
       "</div>"
      ],
      "text/plain": [
       "   Unnamed: 0             business_id  cool        date  funny  \\\n",
       "0           1  pomGBqfbxcqPv14c3XH-ZQ     0  2012-11-13      0   \n",
       "1           2  jtQARsP6P-LbkyjbO1qNGg     1  2014-10-23      1   \n",
       "2           4  Ums3gaP2qM3W1XcA5r6SsQ     0  2014-09-05      0   \n",
       "3           5  vgfcTvK81oD4r50NMjU2Ag     0  2011-02-25      0   \n",
       "4          10  yFumR3CWzpfvTH2FCthvVw     0  2016-06-15      0   \n",
       "\n",
       "                review_id  stars  \\\n",
       "0  dDl8zu1vWPdKGihJrwQbpw      5   \n",
       "1  LZp4UX5zK3e-c5ZGSeo3kA      1   \n",
       "2  jsDu6QEJHbwP2Blom1PLCA      5   \n",
       "3  pfavA0hr3nyqO61oupj-lA      1   \n",
       "4  STiFMww2z31siPY7BWNC2g      5   \n",
       "\n",
       "                                                text  useful  \\\n",
       "0  I love this place! My fiance And I go here atl...       0   \n",
       "1  Terrible. Dry corn bread. Rib tips were all fa...       3   \n",
       "2  Delicious healthy food. The steak is amazing. ...       0   \n",
       "3  This place sucks. The customer service is horr...       2   \n",
       "4  I have been an Emerald Club member for a numbe...       0   \n",
       "\n",
       "                  user_id Review_Length  ntext  \n",
       "0  msQe1u7Z_XuqjGoqhB0J5g        Medium     58  \n",
       "1  msQe1u7Z_XuqjGoqhB0J5g         Short     30  \n",
       "2  msQe1u7Z_XuqjGoqhB0J5g         Short     30  \n",
       "3  msQe1u7Z_XuqjGoqhB0J5g          Long     82  \n",
       "4  TlvV-xJhmh7LCwJYXkV-cg         Short     32  "
      ]
     },
     "execution_count": 31,
     "metadata": {},
     "output_type": "execute_result"
    }
   ],
   "source": [
    "df.head()"
   ]
  },
  {
   "cell_type": "code",
   "execution_count": 34,
   "metadata": {},
   "outputs": [
    {
     "data": {
      "text/html": [
       "<div>\n",
       "<style scoped>\n",
       "    .dataframe tbody tr th:only-of-type {\n",
       "        vertical-align: middle;\n",
       "    }\n",
       "\n",
       "    .dataframe tbody tr th {\n",
       "        vertical-align: top;\n",
       "    }\n",
       "\n",
       "    .dataframe thead th {\n",
       "        text-align: right;\n",
       "    }\n",
       "</style>\n",
       "<table border=\"1\" class=\"dataframe\">\n",
       "  <thead>\n",
       "    <tr style=\"text-align: right;\">\n",
       "      <th></th>\n",
       "      <th>Review_Length</th>\n",
       "      <th>ntext</th>\n",
       "      <th>date</th>\n",
       "    </tr>\n",
       "  </thead>\n",
       "  <tbody>\n",
       "    <tr>\n",
       "      <th>0</th>\n",
       "      <td>Medium</td>\n",
       "      <td>58</td>\n",
       "      <td>2012-11-13</td>\n",
       "    </tr>\n",
       "    <tr>\n",
       "      <th>1</th>\n",
       "      <td>Short</td>\n",
       "      <td>30</td>\n",
       "      <td>2014-10-23</td>\n",
       "    </tr>\n",
       "    <tr>\n",
       "      <th>2</th>\n",
       "      <td>Short</td>\n",
       "      <td>30</td>\n",
       "      <td>2014-09-05</td>\n",
       "    </tr>\n",
       "    <tr>\n",
       "      <th>3</th>\n",
       "      <td>Long</td>\n",
       "      <td>82</td>\n",
       "      <td>2011-02-25</td>\n",
       "    </tr>\n",
       "    <tr>\n",
       "      <th>4</th>\n",
       "      <td>Short</td>\n",
       "      <td>32</td>\n",
       "      <td>2016-06-15</td>\n",
       "    </tr>\n",
       "    <tr>\n",
       "      <th>5</th>\n",
       "      <td>Short</td>\n",
       "      <td>49</td>\n",
       "      <td>2016-09-23</td>\n",
       "    </tr>\n",
       "    <tr>\n",
       "      <th>6</th>\n",
       "      <td>Short</td>\n",
       "      <td>21</td>\n",
       "      <td>2014-08-23</td>\n",
       "    </tr>\n",
       "    <tr>\n",
       "      <th>7</th>\n",
       "      <td>Medium</td>\n",
       "      <td>70</td>\n",
       "      <td>2017-08-16</td>\n",
       "    </tr>\n",
       "    <tr>\n",
       "      <th>8</th>\n",
       "      <td>Long</td>\n",
       "      <td>131</td>\n",
       "      <td>2017-11-18</td>\n",
       "    </tr>\n",
       "    <tr>\n",
       "      <th>9</th>\n",
       "      <td>Long</td>\n",
       "      <td>112</td>\n",
       "      <td>2017-11-18</td>\n",
       "    </tr>\n",
       "    <tr>\n",
       "      <th>10</th>\n",
       "      <td>Short</td>\n",
       "      <td>19</td>\n",
       "      <td>2015-12-10</td>\n",
       "    </tr>\n",
       "  </tbody>\n",
       "</table>\n",
       "</div>"
      ],
      "text/plain": [
       "   Review_Length  ntext        date\n",
       "0         Medium     58  2012-11-13\n",
       "1          Short     30  2014-10-23\n",
       "2          Short     30  2014-09-05\n",
       "3           Long     82  2011-02-25\n",
       "4          Short     32  2016-06-15\n",
       "5          Short     49  2016-09-23\n",
       "6          Short     21  2014-08-23\n",
       "7         Medium     70  2017-08-16\n",
       "8           Long    131  2017-11-18\n",
       "9           Long    112  2017-11-18\n",
       "10         Short     19  2015-12-10"
      ]
     },
     "execution_count": 34,
     "metadata": {},
     "output_type": "execute_result"
    }
   ],
   "source": [
    "df.loc[:10,['Review_Length','ntext','date']]"
   ]
  },
  {
   "cell_type": "code",
   "execution_count": 29,
   "metadata": {},
   "outputs": [
    {
     "data": {
      "text/plain": [
       "0     Medium\n",
       "1      Short\n",
       "2      Short\n",
       "3       Long\n",
       "4      Short\n",
       "5      Short\n",
       "6      Short\n",
       "7     Medium\n",
       "8       Long\n",
       "9       Long\n",
       "10     Short\n",
       "Name: Review_Length, dtype: object"
      ]
     },
     "execution_count": 29,
     "metadata": {},
     "output_type": "execute_result"
    }
   ],
   "source": [
    "df.loc[:10,'Review_Length']"
   ]
  },
  {
   "cell_type": "markdown",
   "metadata": {},
   "source": [
    "## Level Up: Dates Advanced!\n",
    "<img src=\"images/date_format_map.png\" width=\"600\">  \n",
    "\n",
    "Overwrite the date column by reordering the month and day from YYYY-MM-DD to DD-MM-YYYY. Try to do this using a lambda function."
   ]
  },
  {
   "cell_type": "code",
   "execution_count": null,
   "metadata": {
    "collapsed": true
   },
   "outputs": [],
   "source": [
    "df.date.map(lambda x: x[8:]+x[]).head()"
   ]
  },
  {
   "cell_type": "markdown",
   "metadata": {},
   "source": [
    "## Summary\n",
    "\n",
    "Great! Hopefully you're getting the hang of lambda functions now! It's important not to overuse them - it will often make more sense to define a function so that it's reusable elsewhere. But whenever you need to quickly apply some simple processing to a collection of data you have a new technique that will help you to do just that. It'll also be useful if you're reading someone else's code that happens to use lambdas."
   ]
  }
 ],
 "metadata": {
  "kernelspec": {
   "display_name": "Python 3",
   "language": "python",
   "name": "python3"
  },
  "language_info": {
   "codemirror_mode": {
    "name": "ipython",
    "version": 3
   },
   "file_extension": ".py",
   "mimetype": "text/x-python",
   "name": "python",
   "nbconvert_exporter": "python",
   "pygments_lexer": "ipython3",
   "version": "3.6.6"
  }
 },
 "nbformat": 4,
 "nbformat_minor": 2
}
